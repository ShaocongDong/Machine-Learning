{
 "cells": [
  {
   "cell_type": "markdown",
   "metadata": {},
   "source": [
    "# Homework2 Support Vector Machine\n",
    "------\n"
   ]
  },
  {
   "cell_type": "markdown",
   "metadata": {},
   "source": [
    "#### Common Programming snippet for writing the output into a file (given in the assignment)"
   ]
  },
  {
   "cell_type": "code",
   "execution_count": 1,
   "metadata": {
    "collapsed": true
   },
   "outputs": [],
   "source": [
    "def written_program_output (i, kernel, cost, gamma, degree):\n",
    "    ### The output of your program should be written in a file as follows.\n",
    "    #   for question 'i', write the output in 'problem-i.txt' file (e.g., 'problem-1a.txt')\n",
    "    current_pwd = os.getcwd()\n",
    "    file_pwd = os.path.join(current_pwd, 'homework/homework2')\n",
    "    file_path = os.path.join(file_pwd, 'problem-'+i+'.txt')\n",
    "    fo = open(file_path, 'w')\n",
    "\n",
    "    # train your svm\n",
    "    # (n.b., svmTrain, svmPredict are not previously defined;\n",
    "    # you will have to supply code to implement them)\n",
    "    svmModel, totalSV  = svmTrain(dataTrain, labelTrain, cost, kernel, gamma, degree)\n",
    "\n",
    "    # test on the training data\n",
    "    trainAccuracy = svmPredict(dataTrain, labelTrain, svmModel)\n",
    "\n",
    "    # test on your test data\n",
    "    testAccuracy = svmPredict(dataTest, labelTest, svmModel)\n",
    "\n",
    "    # report your results in the file\n",
    "    fo.write(\"Kernel: \"+ str(kernel)+\"\\n\")\n",
    "    fo.write(\"Cost: \"+ str(cost)+ \"\\n\")\n",
    "    fo.write(\"Number of Support Vectors: \"+ str(totalSV)+\"\\n\")\n",
    "    fo.write(\"Train Accuracy: \"+ str(trainAccuracy)+\"\\n\")\n",
    "    fo.write(\"Test Accuracy: \" + str(testAccuracy)+\"\\n\")"
   ]
  },
  {
   "cell_type": "markdown",
   "metadata": {
    "collapsed": true
   },
   "source": [
    "## Problem 2 - Gisette\n",
    "-----"
   ]
  },
  {
   "cell_type": "code",
   "execution_count": 3,
   "metadata": {},
   "outputs": [],
   "source": [
    "import numpy as np\n",
    "import os\n",
    "from sklearn.svm import SVC"
   ]
  },
  {
   "cell_type": "code",
   "execution_count": 4,
   "metadata": {},
   "outputs": [],
   "source": [
    "# Function to load the data set\n",
    "def loadDataFromTxtWithColonDelimiter(filePath, numberColumn):\n",
    "    rawStringData = np.genfromtxt(fname=filePath, dtype=\"str\", delimiter=\"\\n\")\n",
    "    totalSize = rawStringData.shape[0]\n",
    "    data = np.zeros((totalSize, numberColumn))\n",
    "    label = np.zeros((totalSize,))\n",
    "    for row in range(totalSize):\n",
    "        thisRowData = rawStringData[row].split(' ')\n",
    "        thisRowSize = len(thisRowData)\n",
    "        label[row] = int(thisRowData[0])\n",
    "        for column in range(1, thisRowSize):\n",
    "            indexInsert, dataInsert = thisRowData[column].split(':')\n",
    "            data[row][int(indexInsert)-1] = float(dataInsert)\n",
    "    return data, label, totalSize"
   ]
  },
  {
   "cell_type": "code",
   "execution_count": 5,
   "metadata": {},
   "outputs": [],
   "source": [
    "current_pwd = os.getcwd()\n",
    "file_pwd = os.path.join(current_pwd, 'homework/homework2')\n",
    "train_file_path = os.path.join(file_pwd, 'hw2-2-train.txt')\n",
    "test_file_path = os.path.join(file_pwd, 'hw2-2-test.txt')"
   ]
  },
  {
   "cell_type": "code",
   "execution_count": 6,
   "metadata": {},
   "outputs": [],
   "source": [
    "# Load the data set (both the training and testing useing self-defined function for cleaning purposes)\n",
    "dataTrain, labelTrain, TrainSize = loadDataFromTxtWithColonDelimiter(train_file_path, 5000)\n",
    "dataTest, labelTest, TestSize = loadDataFromTxtWithColonDelimiter(test_file_path, 5000)"
   ]
  },
  {
   "cell_type": "markdown",
   "metadata": {},
   "source": [
    "#### Problem 2.d"
   ]
  },
  {
   "cell_type": "code",
   "execution_count": 7,
   "metadata": {
    "collapsed": true
   },
   "outputs": [],
   "source": [
    "def svmTrain(dataTrain, labelTrain, cost, kernel, gamma, degree):\n",
    "    model = SVC(C=cost, kernel=kernel, gamma=gamma, degree = degree)\n",
    "    model.fit(dataTrain, labelTrain)\n",
    "    return model, model.support_.shape[0]"
   ]
  },
  {
   "cell_type": "code",
   "execution_count": 8,
   "metadata": {
    "collapsed": true
   },
   "outputs": [],
   "source": [
    "def svmPredict(data, label, svmModel):\n",
    "    predict = svmModel.predict(data)\n",
    "    N = predict.shape[0]\n",
    "    return 1-(np.sum(predict!=label)/N)"
   ]
  },
  {
   "cell_type": "code",
   "execution_count": 9,
   "metadata": {},
   "outputs": [],
   "source": [
    "written_program_output ('2d', kernel='linear', gamma='auto', degree = 1, cost=1)"
   ]
  },
  {
   "cell_type": "markdown",
   "metadata": {},
   "source": [
    "#### Problem 2.e"
   ]
  },
  {
   "cell_type": "code",
   "execution_count": 10,
   "metadata": {
    "collapsed": true
   },
   "outputs": [],
   "source": [
    "def rbfKernelTest(dataTrain, labelTrain, dataTest, labelTest, gamma=0.001, kernel='rbf'):\n",
    "    # Gaussian kernel; set γ = 0.001\n",
    "    model = SVC(kernel=kernel, gamma=gamma)\n",
    "    model.fit(dataTrain, labelTrain)\n",
    "    totalSV = model.n_support_[0]\n",
    "    in_err = 1-svmPredict(dataTrain, labelTrain, model)\n",
    "    out_err = 1-svmPredict(dataTest, labelTest, model)\n",
    "    print (\"RBF with gamma(0.001) \"+\" number of SV: \"+str(totalSV)\n",
    "           +\" Ein: \"+ str(in_err) +\" Eout: \"+ str(out_err))"
   ]
  },
  {
   "cell_type": "code",
   "execution_count": 11,
   "metadata": {},
   "outputs": [
    {
     "name": "stdout",
     "output_type": "stream",
     "text": [
      "RBF with gamma(0.001)  number of SV: 1273 Ein: 0.00116666666667 Eout: 0.02\n"
     ]
    }
   ],
   "source": [
    "rbfKernelTest(dataTrain, labelTrain, dataTest, labelTest, gamma=0.001, kernel='rbf')"
   ]
  },
  {
   "cell_type": "code",
   "execution_count": 12,
   "metadata": {
    "collapsed": true
   },
   "outputs": [],
   "source": [
    "def polyKernelTest(dataTrain, labelTrain, dataTest, labelTest, degree=2,coef0=1,kernel='poly'):\n",
    "    # set degree=2, coef0=1, kernel='poly'\n",
    "    model = SVC(degree=2,coef0=1,kernel='poly')\n",
    "    model.fit(dataTrain, labelTrain)\n",
    "    totalSV = model.n_support_[0]\n",
    "    in_err = 1-svmPredict(dataTrain, labelTrain, model)\n",
    "    out_err = 1-svmPredict(dataTest, labelTest, model)\n",
    "    print (\"Polynomial kernel \"+\" number of SV: \"+str(totalSV)\n",
    "           +\" Ein: \"+ str(in_err) +\" Eout: \"+ str(out_err))"
   ]
  },
  {
   "cell_type": "code",
   "execution_count": 13,
   "metadata": {},
   "outputs": [
    {
     "name": "stdout",
     "output_type": "stream",
     "text": [
      "Polynomial kernel  number of SV: 643 Ein: 0.00766666666667 Eout: 0.021\n"
     ]
    }
   ],
   "source": [
    "polyKernelTest(dataTrain, labelTrain, dataTest, labelTest, degree=2,coef0=1,kernel='poly')"
   ]
  },
  {
   "cell_type": "markdown",
   "metadata": {},
   "source": [
    "**Answer:**   \n",
    "  \n",
    "From the output, we can see that RBF kernel yields lower Ein."
   ]
  }
 ],
 "metadata": {
  "kernelspec": {
   "display_name": "Python 3",
   "language": "python",
   "name": "python3"
  },
  "language_info": {
   "codemirror_mode": {
    "name": "ipython",
    "version": 3
   },
   "file_extension": ".py",
   "mimetype": "text/x-python",
   "name": "python",
   "nbconvert_exporter": "python",
   "pygments_lexer": "ipython3",
   "version": "3.6.1"
  }
 },
 "nbformat": 4,
 "nbformat_minor": 2
}
