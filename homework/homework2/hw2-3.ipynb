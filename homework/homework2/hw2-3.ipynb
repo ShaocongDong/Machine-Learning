{
 "cells": [
  {
   "cell_type": "markdown",
   "metadata": {},
   "source": [
    "# Homework2 Support Vector Machine\n",
    "------\n"
   ]
  },
  {
   "cell_type": "markdown",
   "metadata": {},
   "source": [
    "This is the README session for:\n",
    "* Metric Number: `A0148008J`\n",
    "* Email: `e0012680@u.nus.edu`"
   ]
  },
  {
   "cell_type": "markdown",
   "metadata": {
    "collapsed": true
   },
   "source": [
    "## Optional Bonus - US Postal Service Zip Code dataset\n",
    "------"
   ]
  },
  {
   "cell_type": "code",
   "execution_count": 44,
   "metadata": {
    "collapsed": true
   },
   "outputs": [],
   "source": [
    "#%matplotlib notebook\n",
    "import numpy as np\n",
    "import os\n",
    "from sklearn.svm import SVC\n",
    "import matplotlib.pyplot as plt\n",
    "from IPython.display import display, Image\n",
    "from matplotlib import cm\n"
   ]
  },
  {
   "cell_type": "code",
   "execution_count": 13,
   "metadata": {},
   "outputs": [],
   "source": [
    "#Set up details\n",
    "current_pwd = os.path.join(os.getcwd(),'homework/homework2')\n",
    "\n",
    "train_data_path = os.path.join(current_pwd, 'hw2-1-train.txt')\n",
    "test_data_path = os.path.join(current_pwd, 'hw2-1-test.txt')"
   ]
  },
  {
   "cell_type": "code",
   "execution_count": 14,
   "metadata": {
    "collapsed": true
   },
   "outputs": [],
   "source": [
    "# Load DataSet\n",
    "setTrain = np.loadtxt(train_data_path)\n",
    "setTest = np.loadtxt(test_data_path)\n",
    "# split the data sets\n",
    "labelTrain, dataTrain = setTrain[:,0], setTrain[:,1:3]\n",
    "labelTest, dataTest = setTest[:,0], setTest[:,1:3]"
   ]
  },
  {
   "cell_type": "code",
   "execution_count": 19,
   "metadata": {},
   "outputs": [
    {
     "data": {
      "text/plain": [
       "array([ 0.2479082, -4.1050625])"
      ]
     },
     "execution_count": 19,
     "metadata": {},
     "output_type": "execute_result"
    }
   ],
   "source": [
    "dataTrain[0]"
   ]
  },
  {
   "cell_type": "markdown",
   "metadata": {},
   "source": [
    "##### Self-Defined Functions\n",
    "-----"
   ]
  },
  {
   "cell_type": "code",
   "execution_count": 6,
   "metadata": {
    "collapsed": true
   },
   "outputs": [],
   "source": [
    "def svmTrain(dataTrain, labelTrain, cost, kernel, gamma, degree):\n",
    "    model = SVC(C=cost, kernel=kernel, gamma=gamma, degree=degree)\n",
    "    model.fit(dataTrain, labelTrain)\n",
    "    return model, model.support_.shape[0]"
   ]
  },
  {
   "cell_type": "code",
   "execution_count": 7,
   "metadata": {
    "collapsed": true
   },
   "outputs": [],
   "source": [
    "def svmPredict(data, label, svmModel):\n",
    "    predict = svmModel.predict(data)\n",
    "    N = predict.shape[0]\n",
    "    return 1 - np.sum(predict!=label)/(N*1.0)"
   ]
  },
  {
   "cell_type": "code",
   "execution_count": 8,
   "metadata": {
    "collapsed": true
   },
   "outputs": [],
   "source": [
    "def testAccuracy(dataTrain, labelTrain, dataTest, labelTest, cost, kernel, gamma, degree):\n",
    "    model, totalSV = svmTrain(dataTrain, labelTrain, cost, kernel, gamma, degree)\n",
    "    return svmPredict(dataTest, labelTest, model), model, totalSV"
   ]
  },
  {
   "cell_type": "code",
   "execution_count": 9,
   "metadata": {
    "collapsed": true
   },
   "outputs": [],
   "source": [
    "def printToVariousCostRBF(dataTrain, labelTrain, dataTest, labelTest, gamma, degree):\n",
    "    # Cost has the following values: C ∈ {0.01, 1, 10^2, 10^4, 10^6}\n",
    "    # RBF kernel for model fitting\n",
    "    # The rest parameter chosen to be the default values\n",
    "    kernel = 'rbf'\n",
    "    for cost in [0.01, 1, 100, 10000, 1000000]:\n",
    "        out_err, model, totalSV = testAccuracy(dataTrain, labelTrain, dataTest, labelTest, cost, \n",
    "                                           kernel, gamma, degree)\n",
    "        in_err = svmPredict(dataTrain, labelTrain, model)\n",
    "        print(\"Cost: \"+ str(cost) +\"  in_error: \"\n",
    "              + str(1-in_err)+\"  out_error: \"+ str(1-out_err)\n",
    "              +\"  total SV: \"+ str(totalSV))"
   ]
  },
  {
   "cell_type": "code",
   "execution_count": 10,
   "metadata": {},
   "outputs": [
    {
     "name": "stdout",
     "output_type": "stream",
     "text": [
      "Cost: 0.01  in_error: 0.00384368994234  out_error: 0.0212264150943  total SV: 347\nCost: 1  in_error: 0.00448430493274  out_error: 0.0212264150943  total SV: 31\nCost: 100  in_error: 0.00320307495195  out_error: 0.0188679245283  total SV: 20\nCost: 10000  in_error: 0.00256245996156  out_error: 0.0188679245283  total SV: 17\nCost: 1000000  in_error: 0.00128122998078  out_error: 0.0212264150943  total SV: 18\n"
     ]
    }
   ],
   "source": [
    "printToVariousCostRBF(dataTrain, labelTrain, dataTest, labelTest, 'auto', 2)"
   ]
  },
  {
   "cell_type": "code",
   "execution_count": null,
   "metadata": {},
   "outputs": [],
   "source": [
    "def plotDecisionBoundaryRBFSVM(X, y, kernel, gamma = 'auto', degree = 2):\n",
    "    for cost in [0.01, 1, 100, 10000, 1000000]:\n",
    "        model = svmTrain(X, y, cost=cost, kernel=kernel, degree = degree, gamma=gamma)[0]\n",
    "        \n",
    "        fig = plt.figure()\n",
    "        for i in range(X[:,0].size):\n",
    "            if y[i] > 0.0:\n",
    "                plt.scatter(X[i,0],X[i,1], c= 'red', marker='+')\n",
    "            else:\n",
    "                plt.scatter(X[i,0],X[i,1], c= 'blue', marker='o')\n",
    "                \n",
    "        # step size in the mesh\n",
    "        h = 0.02  \n",
    "        \n",
    "        # create a mesh to plot in\n",
    "        x_min, x_max = X[:, 0].min(), X[:, 0].max()\n",
    "        y_min, y_max = X[:, 1].min(), X[:, 1].max()\n",
    "        xx, yy = np.meshgrid(np.arange(x_min, x_max, h),\n",
    "                     np.arange(y_min, y_max, h))\n",
    "        Z = model.decision_function(np.c_[xx.ravel(), yy.ravel()])\n",
    "\n",
    "        # Put the result into a color plot\n",
    "        Z = Z.reshape(xx.shape)\n",
    "        plt.pcolormesh(xx, yy, Z>0, cmap=plt.cm.Paired)\n",
    "        plt.contour(xx, yy, Z, colors=['k', 'k', 'k'],\n",
    "                linestyles=['--', '-', '--'], levels=[-.5, 0, .5])\n",
    "    \n",
    "        plt.title(\"Cost = \" + str(cost))\n",
    "        \n",
    "        plt.show()"
   ]
  },
  {
   "cell_type": "code",
   "execution_count": 48,
   "metadata": {},
   "outputs": [],
   "source": [
    "def make_meshgrid(x, y, h=.02):\n",
    "    \"\"\"Create a mesh of points to plot in\n",
    "\n",
    "    Parameters\n",
    "    ----------\n",
    "    x: data to base x-axis meshgrid on\n",
    "    y: data to base y-axis meshgrid on\n",
    "    h: stepsize for meshgrid, optional\n",
    "\n",
    "    Returns\n",
    "    -------\n",
    "    xx, yy : ndarray\n",
    "    \"\"\"\n",
    "    x_min, x_max = x.min() - 1, x.max() + 1\n",
    "    y_min, y_max = y.min() - 1, y.max() + 1\n",
    "    xx, yy = np.meshgrid(np.arange(x_min, x_max, h),\n",
    "                         np.arange(y_min, y_max, h))\n",
    "    return xx, yy"
   ]
  },
  {
   "cell_type": "code",
   "execution_count": 49,
   "metadata": {},
   "outputs": [],
   "source": [
    "def plot_contours(ax, clf, xx, yy, **params):\n",
    "    \"\"\"Plot the decision boundaries for a classifier.\n",
    "\n",
    "    Parameters\n",
    "    ----------\n",
    "    ax: matplotlib axes object\n",
    "    clf: a classifier\n",
    "    xx: meshgrid ndarray\n",
    "    yy: meshgrid ndarray\n",
    "    params: dictionary of params to pass to contourf, optional\n",
    "    \"\"\"\n",
    "    Z = clf.predict(np.c_[xx.ravel(), yy.ravel()])\n",
    "    Z = Z.reshape(xx.shape)\n",
    "    out = ax.contourf(xx, yy, Z, **params)\n",
    "    return out"
   ]
  },
  {
   "cell_type": "code",
   "execution_count": null,
   "metadata": {},
   "outputs": [],
   "source": [
    "def plot(X, y, kernel, gamma = 'auto', degree = 2):\n",
    "    for cost in [0.01, 1, 100, 10000, 1000000]:\n",
    "        model = svmTrain(X, y, cost=cost, kernel=kernel, degree = degree, gamma=gamma)[0]\n",
    "        plot_contours(ax, model, xx, yy,\n",
    "                      cmap=plt.cm.coolwarm, alpha=0.8)\n",
    "        ax.scatter(X0, X1, c=y, cmap=plt.cm.coolwarm, s=20, edgecolors='k')\n",
    "        ax.set_xlim(xx.min(), xx.max())\n",
    "        ax.set_ylim(yy.min(), yy.max())\n",
    "        ax.set_xlabel('Sepal length')\n",
    "        ax.set_ylabel('Sepal width')\n",
    "        ax.set_xticks(())\n",
    "        ax.set_yticks(())\n",
    "        ax.set_title(title)\n",
    "\n",
    "    plt.show()"
   ]
  },
  {
   "cell_type": "code",
   "execution_count": null,
   "metadata": {},
   "outputs": [],
   "source": []
  },
  {
   "cell_type": "code",
   "execution_count": 51,
   "metadata": {},
   "outputs": [
    {
     "data": {
      "text/plain": [
       "<IPython.core.display.Javascript object>"
      ]
     },
     "execution_count": 0,
     "metadata": {},
     "output_type": "execute_result"
    },
    {
     "data": {
      "text/html": [
       "<div id='fa133b5d-4c4f-442f-a3f3-4036beffd4e5'></div>"
      ],
      "text/plain": [
       "<div id='fa133b5d-4c4f-442f-a3f3-4036beffd4e5'></div>"
      ]
     },
     "execution_count": 0,
     "metadata": {},
     "output_type": "execute_result"
    },
    {
     "data": {
      "text/plain": [
       "<IPython.core.display.Javascript object>"
      ]
     },
     "execution_count": 0,
     "metadata": {},
     "output_type": "execute_result"
    },
    {
     "data": {
      "text/html": [
       "<div id='478b0e1a-dbd0-4722-80be-96e59a712c17'></div>"
      ],
      "text/plain": [
       "<div id='478b0e1a-dbd0-4722-80be-96e59a712c17'></div>"
      ]
     },
     "execution_count": 0,
     "metadata": {},
     "output_type": "execute_result"
    },
    {
     "data": {
      "text/plain": [
       "<IPython.core.display.Javascript object>"
      ]
     },
     "execution_count": 0,
     "metadata": {},
     "output_type": "execute_result"
    },
    {
     "data": {
      "text/html": [
       "<div id='22af6fe4-f365-46ee-a948-4c3c069093ea'></div>"
      ],
      "text/plain": [
       "<div id='22af6fe4-f365-46ee-a948-4c3c069093ea'></div>"
      ]
     },
     "execution_count": 0,
     "metadata": {},
     "output_type": "execute_result"
    },
    {
     "data": {
      "text/plain": [
       "<IPython.core.display.Javascript object>"
      ]
     },
     "execution_count": 0,
     "metadata": {},
     "output_type": "execute_result"
    },
    {
     "data": {
      "text/html": [
       "<div id='0a008e43-77dc-493b-b779-41e1b115daf9'></div>"
      ],
      "text/plain": [
       "<div id='0a008e43-77dc-493b-b779-41e1b115daf9'></div>"
      ]
     },
     "execution_count": 0,
     "metadata": {},
     "output_type": "execute_result"
    },
    {
     "data": {
      "text/plain": [
       "<IPython.core.display.Javascript object>"
      ]
     },
     "execution_count": 0,
     "metadata": {},
     "output_type": "execute_result"
    },
    {
     "data": {
      "text/html": [
       "<div id='22c6f8ec-2574-4d1a-b144-902ebb34237d'></div>"
      ],
      "text/plain": [
       "<div id='22c6f8ec-2574-4d1a-b144-902ebb34237d'></div>"
      ]
     },
     "execution_count": 0,
     "metadata": {},
     "output_type": "execute_result"
    }
   ],
   "source": [
    "plotDecisionBoundaryRBFSVM(dataTrain, labelTrain, kernel = \"rbf\", gamma = 'auto', degree = 2)"
   ]
  },
  {
   "cell_type": "code",
   "execution_count": 46,
   "metadata": {},
   "outputs": [],
   "source": [
    "# Set up parameters\n",
    "X = dataTrain\n",
    "y = labelTrain\n",
    "kernel = \"rbf\"\n",
    "degree = 2\n",
    "gamma = 'auto'\n"
   ]
  },
  {
   "cell_type": "markdown",
   "metadata": {
    "collapsed": true
   },
   "source": [
    "## Statement of Individual Work\n",
    "\n",
    "Please initial (between the square brackets) one of the following statements.\n",
    "\n",
    "[Dong Shaocong] I, <*A0148008J*>, certify that I have followed the CS 3244 Machine Learning class guidelines for homework assignments.  In particular, I expressly vow that I have followed the Facebook rule in discussing with others in doing the assignment and did not take notes (digital or printed) from the discussions.  \n"
   ]
  },
  {
   "cell_type": "code",
   "execution_count": 47,
   "metadata": {},
   "outputs": [],
   "source": []
  },
  {
   "cell_type": "code",
   "execution_count": null,
   "metadata": {},
   "outputs": [],
   "source": []
  }
 ],
 "metadata": {
  "kernelspec": {
   "display_name": "Python 3",
   "language": "python",
   "name": "python3"
  },
  "language_info": {
   "codemirror_mode": {
    "name": "ipython",
    "version": 3
   },
   "file_extension": ".py",
   "mimetype": "text/x-python",
   "name": "python",
   "nbconvert_exporter": "python",
   "pygments_lexer": "ipython3",
   "version": "3.6.1"
  }
 },
 "nbformat": 4,
 "nbformat_minor": 2
}
