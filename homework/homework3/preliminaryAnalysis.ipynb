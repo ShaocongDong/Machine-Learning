{
 "cells": [
  {
   "cell_type": "markdown",
   "metadata": {
    "collapsed": true
   },
   "source": [
    "# Homework 3 (preliminary analysis part)"
   ]
  },
  {
   "cell_type": "markdown",
   "metadata": {},
   "source": [
    "#### Kaggle team: < >\n",
    "#### Group: A0148008J, \n"
   ]
  },
  {
   "cell_type": "markdown",
   "metadata": {},
   "source": [
    "## Importing, Constants, and data loading functions"
   ]
  },
  {
   "cell_type": "code",
   "execution_count": 12,
   "metadata": {},
   "outputs": [],
   "source": [
    "# import statement and extra libraries used\n",
    "import numpy as np\n",
    "import pandas as pd\n",
    "import os\n",
    "import csv\n",
    "import matplotlib.pyplot as plt\n",
    "import sklearn\n",
    "import statistics as st\n",
    "import xgboost as xgb\n",
    "import matplotlib.dates as mdates\n",
    "from datetime import datetime\n",
    "from datetime import timedelta\n"
   ]
  },
  {
   "cell_type": "code",
   "execution_count": 2,
   "metadata": {},
   "outputs": [],
   "source": [
    "# Constant used in this homework\n",
    "DATE_TIME_FORMAT_DEV = \"%d/%m/%Y\"\n",
    "DATE_TIME_FORMAT_REAL = \"%Y-%m-%d\"\n",
    "DATE_TIME_FORMAT_WEEK = \"%Y-W%W-%w\"\n",
    "MIN_BOOLEAN_INDEX_TRAIN = 5\n",
    "MAX_BOOLEAN_INDEX_TRAIN = 8\n",
    "RAW_FEATURE_NUMBER_TRAIN = 9\n",
    "MIN_BOOLEAN_INDEX_TEST = 4\n",
    "MAX_BOOLEAN_INDEX_TEST = 7\n",
    "RAW_FEATURE_NUMBER_TEST = 8\n",
    "STORE_COMPETITION_SINCE_DEFAULT_TIME = datetime(2009, 3, 9, 18, 13, 5)\n",
    "STORE_NO_PROMOTION_SINCE_CONSTANT_TIME = datetime(2999, 1, 1, 0, 0, 0) # we assume this datetime is big enough\n",
    "STORE_NO_COMPETITION_SINCE_CONSTANT_TIME = datetime(2999, 1, 1, 0, 0, 0) # we assume this datetime is big enough\n",
    "STORE_NO_PROMO_INTERVAL_STRING = \"No Promotion\""
   ]
  },
  {
   "cell_type": "code",
   "execution_count": 3,
   "metadata": {},
   "outputs": [],
   "source": [
    "# File path processing\n",
    "current_pwd = os.getcwd()\n",
    "directory_path = os.path.join(current_pwd, \"inpublic/homework3\")\n",
    "train_file_path = os.path.join(directory_path, \"train_v2.csv\")\n",
    "test_file_path = os.path.join(directory_path, \"test_v2.csv\")\n",
    "store_info_path = os.path.join(directory_path, \"store.csv\")"
   ]
  },
  {
   "cell_type": "code",
   "execution_count": 4,
   "metadata": {},
   "outputs": [],
   "source": [
    "# data loading and extraction function\n",
    "def dataLoadExtract(filePath, booleanMin, booleanMax):\n",
    "    rawDataMatrix = []\n",
    "    firstRow = True\n",
    "    \n",
    "    with open(filePath, newline='') as csvFile:\n",
    "        train_raw = csv.reader(csvFile, delimiter=',')\n",
    "        for row in train_raw:\n",
    "            if (firstRow):\n",
    "                rawDataMatrix.append(row)\n",
    "                firstRow = False\n",
    "            else:\n",
    "                currentRow = []\n",
    "                for i in range(len(row)):\n",
    "                    if (i == 7):\n",
    "                        currentRow.append(row[i])\n",
    "                    elif booleanMin<=i<=booleanMax:\n",
    "                        if (row[i] == '0'):\n",
    "                            currentRow.append(False)\n",
    "                        else:\n",
    "                            currentRow.append(True)\n",
    "                    elif '-' in row[i]:\n",
    "                        currentRow.append(\n",
    "                            datetime.strptime(row[i], DATE_TIME_FORMAT_REAL).date())\n",
    "                    else:\n",
    "                        currentRow.append(int(row[i]))\n",
    "                rawDataMatrix.append(currentRow)\n",
    "    \n",
    "    headerRaw = rawDataMatrix[0] # a list containing all the headers as string\n",
    "    dataRaw = np.array(rawDataMatrix[1:]) # a numpy array with raw data\n",
    "    return headerRaw, dataRaw"
   ]
  },
  {
   "cell_type": "code",
   "execution_count": 5,
   "metadata": {},
   "outputs": [],
   "source": [
    "def storeLoadExtract(filePath):\n",
    "    rawDataMatrix = []\n",
    "    firstRow = True\n",
    "    \n",
    "    with open(filePath, newline='') as csvFile:\n",
    "        train_raw = csv.reader(csvFile, delimiter=',')\n",
    "        for row in train_raw:\n",
    "            if (firstRow):\n",
    "                header = [\"Store Index\", \"Store Type\", \"Assortment\", \"Competition distance reciprocal\", \"Competition Since\",\n",
    "                          \"Promotion Since\", \"Promotion Interval\"]\n",
    "                rawDataMatrix.append(header)\n",
    "                firstRow = False\n",
    "            else:\n",
    "                currentRow = []\n",
    "                currentRow.append(int(row[0])) # store index\n",
    "                currentRow.append(row[1]) # store type\n",
    "                currentRow.append(row[2]) # assortment\n",
    "                \n",
    "                if (row[3] == \"\"): # competition distance reciprocal\n",
    "                    currentRow.append(0)\n",
    "                    currentRow.append(STORE_NO_COMPETITION_SINCE_CONSTANT_TIME)\n",
    "                else:\n",
    "                    currentRow.append(1.0/int(row[3])) \n",
    "                \n",
    "                    if (row[4] != \"\"): \n",
    "                        date_str = \"1/\"+row[4]+\"/\"+row[5]\n",
    "                        date_object = datetime.strptime(date_str, DATE_TIME_FORMAT_DEV)\n",
    "                        currentRow.append(date_object) # competition since time\n",
    "                    else:\n",
    "                        currentRow.append(STORE_COMPETITION_SINCE_DEFAULT_TIME)\n",
    "                \n",
    "                if (row[6] == \"0\"): # promotion specs\n",
    "                    currentRow.append(STORE_NO_PROMOTION_SINCE_CONSTANT_TIME)\n",
    "                    currentRow.append(STORE_NO_PROMO_INTERVAL_STRING)\n",
    "                else:\n",
    "                    date_str = row[8]+\"-W\"+row[7]+\"-0\"\n",
    "                    date_object = datetime.strptime(date_str, DATE_TIME_FORMAT_WEEK)\n",
    "                    currentRow.append(date_object)\n",
    "                    currentRow.append(row[9])\n",
    "\n",
    "                rawDataMatrix.append(currentRow)\n",
    "    \n",
    "    headerRaw = rawDataMatrix[0] # a list containing all the headers as string\n",
    "    dataRaw = np.array(rawDataMatrix[1:]) # a numpy array with raw data\n",
    "    return headerRaw, dataRaw\n",
    "    "
   ]
  },
  {
   "cell_type": "markdown",
   "metadata": {},
   "source": [
    "## Data Loading _(Test_v2.csv, train_v2.csv, store.csv)_"
   ]
  },
  {
   "cell_type": "code",
   "execution_count": 6,
   "metadata": {},
   "outputs": [],
   "source": [
    "# Data loading and extraction\n",
    "headerRawTrain, dataRawTrain = dataLoadExtract(train_file_path, MIN_BOOLEAN_INDEX_TRAIN, MAX_BOOLEAN_INDEX_TRAIN)\n",
    "headerRawTest, dataRawTest = dataLoadExtract(test_file_path, MIN_BOOLEAN_INDEX_TEST, MAX_BOOLEAN_INDEX_TEST)\n",
    "headerRawStore, dataRawStore = storeLoadExtract(store_info_path)"
   ]
  },
  {
   "cell_type": "markdown",
   "metadata": {},
   "source": [
    "## Preliminary Analysis"
   ]
  },
  {
   "cell_type": "markdown",
   "metadata": {},
   "source": [
    "#### Preliminary analysis for store.csv"
   ]
  },
  {
   "cell_type": "code",
   "execution_count": 8,
   "metadata": {
    "collapsed": false
   },
   "outputs": [
    {
     "name": "stdout",
     "output_type": "stream",
     "text": [
      "['Store', 'StoreType', 'Assortment', 'CompetitionDistance', 'CompetitionOpenSinceMonth', 'CompetitionOpenSinceYear', 'Promo2', 'Promo2SinceWeek', 'Promo2SinceYear', 'PromoInterval']\n1115\n20\n75860\n['Jan,Apr,Jul,Oct', 'Feb,May,Aug,Nov', 'Mar,Jun,Sept,Dec']\n"
     ]
    },
    {
     "data": {
      "text/plain": [
       "datetime.datetime(2009, 3, 9, 18, 13, 5)"
      ]
     },
     "execution_count": 8,
     "metadata": {},
     "output_type": "execute_result"
    }
   ],
   "source": [
    "# Preliminary analysis for store.csv\n",
    "rawDataMatrix = []\n",
    "timeList = []\n",
    "firstRow = True\n",
    "current = 0\n",
    "distance_max = 0\n",
    "distance_min = 999999999999999999\n",
    "promo_interval = []\n",
    "with open(store_info_path, newline='') as csvFile:\n",
    "    train_raw = csv.reader(csvFile, delimiter=',')\n",
    "    for row in train_raw:\n",
    "        \n",
    "    \n",
    "        if (firstRow):\n",
    "            header = row\n",
    "            firstRow = False\n",
    "        \n",
    "        else:\n",
    "            if (row[4]!=\"\"):\n",
    "                date_str = \"1/\"+row[4]+\"/\"+row[5]\n",
    "                # print(date_str)\n",
    "                currentCompetitionTime = (datetime.strptime(date_str, DATE_TIME_FORMAT_DEV)-datetime(1970,1,1)).total_seconds()\n",
    "                timeList.append(currentCompetitionTime)\n",
    "            if (int(row[0]) > current):\n",
    "                current = int(row[0])\n",
    "            if (row[3] == \"\"):\n",
    "                continue\n",
    "            else:\n",
    "                if (int(row[3]) > distance_max):\n",
    "                    distance_max = int(row[3])\n",
    "                if (int(row[3]) < distance_min):\n",
    "                    distance_min = int(row[3])\n",
    "            if (row[9]!=\"\" and row[9] not in promo_interval):\n",
    "                promo_interval.append(row[9])\n",
    "            \n",
    "# Printing statements:      \n",
    "print(header)\n",
    "print(current)\n",
    "print(distance_min)\n",
    "print(distance_max)\n",
    "print(promo_interval)\n",
    "average_time = datetime.fromtimestamp(round(sum(timeList)/len(timeList)))\n",
    "average_time"
   ]
  },
  {
   "cell_type": "markdown",
   "metadata": {},
   "source": [
    "#### Preliminary analysis for train_v2.csv"
   ]
  },
  {
   "cell_type": "code",
   "execution_count": 9,
   "metadata": {
    "collapsed": false
   },
   "outputs": [
    {
     "name": "stdout",
     "output_type": "stream",
     "text": [
      "['Store', 'DayOfWeek', 'Date', 'Sales', 'Customers', 'Open', 'Promo', 'StateHoliday', 'SchoolHoliday']\nTrue\nTrue\nTrue\nTrue\n"
     ]
    }
   ],
   "source": [
    "# Preliminary analysis for train_v2.csv\n",
    "rawDataMatrix = []\n",
    "firstRow = True\n",
    "sales_min = customers_min = 99999999999999999\n",
    "sales_max = customers_max = 0\n",
    "\n",
    "# Further checking on column relations\n",
    "close_then_sales_equal_zero = True\n",
    "sales_equal_zero_then_it_close = True\n",
    "state_holiday_then_close = True\n",
    "state_holiday_then_school_holiday = True\n",
    "\n",
    "for row in dataRawTrain:\n",
    "    if (row[5] is False and row[3] != 0):\n",
    "        close_then_sales_equal_zero = False\n",
    "    \n",
    "    if (row[3] == 0 and row[5] is True):\n",
    "        sales_equal_zero_then_it_close = False\n",
    "    \n",
    "    if (row[7] == 1):\n",
    "        if (row[5] != 0):\n",
    "            # checking state and close relation\n",
    "            state_holiday_then_close = False\n",
    "            \n",
    "        elif (row[8] == 0) :\n",
    "            # checking state and school relation\n",
    "            state_holiday_then_school_holiday = False\n",
    "    \n",
    "        \n",
    "print(headerRawTrain)\n",
    "print(close_then_sales_equal_zero)\n",
    "print(sales_equal_zero_then_it_close)\n",
    "print(state_holiday_then_close)\n",
    "print(state_holiday_then_school_holiday)"
   ]
  },
  {
   "cell_type": "markdown",
   "metadata": {},
   "source": [
    "#### Preliminary visualization analysis (some parts are omitted, graphs are shown in the readme file)"
   ]
  },
  {
   "cell_type": "code",
   "execution_count": 14,
   "metadata": {},
   "outputs": [
    {
     "data": {
      "image/png": "[encoded data removed]",
      "text/plain": [
       "<matplotlib.figure.Figure at 0x119cf2b38>"
      ]
     },
     "metadata": {},
     "output_type": "display_data"
    }
   ],
   "source": [
    "# Printing for different store past sales information (random sampling) \n",
    "#for store_number in [1, 500, 1000]:\n",
    "# processed_data = []\n",
    "nonPromotion_ratio = []\n",
    "Promotion_ratio = []\n",
    "time_list = []\n",
    "for row in dataRawTrain:\n",
    "    if (row[0] == 2):\n",
    "        if (row[3]==0):\n",
    "            continue\n",
    "        #if (row[0] ==store_number):\n",
    "        time_list.append(row[2])\n",
    "        if (row[6] is True):\n",
    "            Promotion_ratio.append(int(row[3])/int(row[4]))\n",
    "            nonPromotion_ratio.append(0)\n",
    "        elif (row[6] is False):\n",
    "            nonPromotion_ratio.append(int(row[3])/int(row[4]))\n",
    "            Promotion_ratio.append(0)\n",
    "# processed_array = np.array(processed_data)\n",
    "\n",
    "x = np.array(time_list)\n",
    "y1 = np.array(Promotion_ratio) # blue\n",
    "y2 = np.array(nonPromotion_ratio) # orange\n",
    "\n",
    "# print(date)\n",
    "plt.gca().xaxis.set_major_formatter(mdates.DateFormatter('%m/%d/%Y'))\n",
    "plt.gca().xaxis.set_major_locator(mdates.DayLocator())\n",
    "plt.scatter(x,y1,cmap=3)\n",
    "plt.scatter(x,y2,cmap=2)\n",
    "plt.gcf().autofmt_xdate()\n",
    "plt.show() # please ignore the zero value at the bottom\n",
    "\n"
   ]
  }
 ],
 "metadata": {
  "kernelspec": {
   "display_name": "Python 2",
   "language": "python",
   "name": "python2"
  },
  "language_info": {
   "codemirror_mode": {
    "name": "ipython",
    "version": 2
   },
   "file_extension": ".py",
   "mimetype": "text/x-python",
   "name": "python",
   "nbconvert_exporter": "python",
   "pygments_lexer": "ipython2",
   "version": "2.7.6"
  }
 },
 "nbformat": 4,
 "nbformat_minor": 0
}
