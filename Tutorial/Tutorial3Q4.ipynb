{
 "cells": [
  {
   "cell_type": "markdown",
   "metadata": {},
   "source": [
    "### Tutorial3 Question 4\n",
    "-----\n",
    "\n",
    "Programming Problem: For this task we will use the Iris dataset again to familiarize\n",
    "yourself with the use of the svm library in sklearn."
   ]
  },
  {
   "cell_type": "markdown",
   "metadata": {},
   "source": [
    "(a) Load the Iris dataset and split the data into its training and test set."
   ]
  },
  {
   "cell_type": "code",
   "execution_count": 5,
   "metadata": {
    "collapsed": true
   },
   "outputs": [],
   "source": [
    "import numpy as np\n",
    "import sklearn as sk\n",
    "import matplotlib.pyplot as pl\n",
    "from sklearn import svm\n",
    "from sklearn.model_selection import train_test_split as spliter\n",
    "from sklearn import datasets as dataset"
   ]
  },
  {
   "cell_type": "code",
   "execution_count": 6,
   "metadata": {
    "collapsed": true
   },
   "outputs": [],
   "source": [
    "iris = dataset.load_iris(return_X_y = True)\n",
    "#predictors_train, predictors_test = iris[0][0:40,:], iris[0][100:150,:]\n",
    "#dependent_train, dependent_test = iris[1][0:100], iris[1][100:150]\n",
    "# Split the Data set into traning data and testing data\n",
    "\n",
    "#Should have used the train_test_split function from sklearn!!!!!!!!!\n",
    "\n",
    "predictors_train = np.vstack((np.vstack((iris[0][0:40,:], iris[0][50:90,:])),iris[0][100:140,:]))\n",
    "predictors_test = np.vstack((np.vstack((iris[0][40:50,:], iris[0][90:100,:])),iris[0][140:150,:]))\n",
    "dependent_train = np.concatenate((np.concatenate((iris[1][0:40], iris[1][50:90]), axis=0),iris[1][100:140]),axis=0)\n",
    "dependent_test = np.concatenate((np.concatenate((iris[1][40:50], iris[1][90:100]), axis=0),iris[1][140:150]),axis=0)"
   ]
  },
  {
   "cell_type": "markdown",
   "metadata": {},
   "source": [
    "(b) Train and test a SVM classifier using the default SVC and check the default setting of SVC (e.g., which kernel does it use? what is the C parameter set to and what does it represent? Hint: you may find  [svm][skweblink] useful.\n",
    "* C parameter default to 1, it represents the soft margin SVM's error penalty constant.\n",
    "* The kernel it uses is the Gaussian RBF.\n",
    "[skweblink]:http://scikit-learn.org/stable/modules/generated/sklearn.svm.SVC.html\n"
   ]
  },
  {
   "cell_type": "code",
   "execution_count": 7,
   "metadata": {},
   "outputs": [
    {
     "name": "stdout",
     "output_type": "stream",
     "text": [
      "Error rate is: 0.0%.\n",
      "SVC score is: 1.0.\n"
     ]
    }
   ],
   "source": [
    "svc = svm.SVC()\n",
    "svc.fit(predictors_train, dependent_train)\n",
    "predict_test = svc.predict(predictors_test)\n",
    "print(\"Error rate is: \" + str((1-np.sum(predict_test==dependent_test)/predictors_test.shape[0])*100) + \"%.\")\n",
    "print(\"SVC score is: \" + str(svc.score(predictors_test, dependent_test)) +\".\")"
   ]
  },
  {
   "cell_type": "markdown",
   "metadata": {},
   "source": [
    "(c) How many support vectors does the model have? SVM only utilizes support vectors in prediction. Why is it important in terms of memory efficiency?\n",
    "* We have 42 support vectors.\n",
    "* In terms of memory efficiency, the non_support_vectors are not needed for building the target hyperplane in seperating the data sets. If we have very large data sets, we can choose to build the hyperplane incrementally so that we only memorise the set of support vectors."
   ]
  },
  {
   "cell_type": "code",
   "execution_count": 8,
   "metadata": {},
   "outputs": [
    {
     "name": "stdout",
     "output_type": "stream",
     "text": [
      "Support vectos number is: 42 out of 120 traning data rows.\n"
     ]
    }
   ],
   "source": [
    "support_vectors = svc.support_vectors_\n",
    "print(\"Support vectos number is: \" + str(support_vectors.shape[0]) + \" out of 120 traning data rows.\")"
   ]
  },
  {
   "cell_type": "markdown",
   "metadata": {},
   "source": [
    "(d) Let’s use the two features of ‘sepal length’ and ‘sepal width’ to visualize the boundary of SVM. Train the SVM model with the radial basis function (rbf) kernel using the two features, and then visualize the boundary in a 2D plot. Repeat the same analysis using an SVM that uses a linear kernel."
   ]
  },
  {
   "cell_type": "code",
   "execution_count": 13,
   "metadata": {
    "collapsed": true
   },
   "outputs": [],
   "source": [
    "def visualization_kernel_2d_plot (feature_1, feature_2, dependent, kernel):\n",
    "        \n",
    "    N = dependent.shape[0]\n",
    "    predictors_feature = np.stack((feature_1, feature_2), axis=1)\n",
    "    \n",
    "    slf = svm.SVC(kernel = kernel)\n",
    "    slf.fit(predictors_feature, dependent)\n",
    "    pl.scatter(feature_1, feature_2, dependent, c = dependent)\n",
    "    w = slf.coef_\n",
    "    \n",
    "    g1 = lambda x: w[0][0] * x + w[0][1]\n",
    "    g2 = lambda x: w[1][0] * x + w[1][0]\n",
    "    g3 = lambda x: w[2][0] * x + w[2][0]\n",
    "    x = np.linspace(5,8)\n",
    "    #pl.plot(x,g1(x))\n",
    "    #pl.plot(x,g2(x))\n",
    "    #pl.plot(x,g3(x))\n",
    "    pl.show()\n",
    "    "
   ]
  },
  {
   "cell_type": "code",
   "execution_count": 14,
   "metadata": {},
   "outputs": [
    {
     "data": {
      "image/png": "[encoded data removed]",
      "text/plain": [
       "<matplotlib.figure.Figure at 0x11c402dd8>"
      ]
     },
     "metadata": {},
     "output_type": "display_data"
    }
   ],
   "source": [
    "visualization_kernel_2d_plot (feature_1=iris[0][:,0], feature_2=iris[0][:,1], dependent=iris[1], kernel='linear')"
   ]
  },
  {
   "cell_type": "code",
   "execution_count": 8,
   "metadata": {},
   "outputs": [
    {
     "name": "stdout",
     "output_type": "stream",
     "text": [
      "Iris Plants Database\n",
      "====================\n",
      "\n",
      "Notes\n",
      "-----\n",
      "Data Set Characteristics:\n",
      "    :Number of Instances: 150 (50 in each of three classes)\n",
      "    :Number of Attributes: 4 numeric, predictive attributes and the class\n",
      "    :Attribute Information:\n",
      "        - sepal length in cm\n",
      "        - sepal width in cm\n",
      "        - petal length in cm\n",
      "        - petal width in cm\n",
      "        - class:\n",
      "                - Iris-Setosa\n",
      "                - Iris-Versicolour\n",
      "                - Iris-Virginica\n",
      "    :Summary Statistics:\n",
      "\n",
      "    ============== ==== ==== ======= ===== ====================\n",
      "                    Min  Max   Mean    SD   Class Correlation\n",
      "    ============== ==== ==== ======= ===== ====================\n",
      "    sepal length:   4.3  7.9   5.84   0.83    0.7826\n",
      "    sepal width:    2.0  4.4   3.05   0.43   -0.4194\n",
      "    petal length:   1.0  6.9   3.76   1.76    0.9490  (high!)\n",
      "    petal width:    0.1  2.5   1.20  0.76     0.9565  (high!)\n",
      "    ============== ==== ==== ======= ===== ====================\n",
      "\n",
      "    :Missing Attribute Values: None\n",
      "    :Class Distribution: 33.3% for each of 3 classes.\n",
      "    :Creator: R.A. Fisher\n",
      "    :Donor: Michael Marshall (MARSHALL%PLU@io.arc.nasa.gov)\n",
      "    :Date: July, 1988\n",
      "\n",
      "This is a copy of UCI ML iris datasets.\n",
      "http://archive.ics.uci.edu/ml/datasets/Iris\n",
      "\n",
      "The famous Iris database, first used by Sir R.A Fisher\n",
      "\n",
      "This is perhaps the best known database to be found in the\n",
      "pattern recognition literature.  Fisher's paper is a classic in the field and\n",
      "is referenced frequently to this day.  (See Duda & Hart, for example.)  The\n",
      "data set contains 3 classes of 50 instances each, where each class refers to a\n",
      "type of iris plant.  One class is linearly separable from the other 2; the\n",
      "latter are NOT linearly separable from each other.\n",
      "\n",
      "References\n",
      "----------\n",
      "   - Fisher,R.A. \"The use of multiple measurements in taxonomic problems\"\n",
      "     Annual Eugenics, 7, Part II, 179-188 (1936); also in \"Contributions to\n",
      "     Mathematical Statistics\" (John Wiley, NY, 1950).\n",
      "   - Duda,R.O., & Hart,P.E. (1973) Pattern Classification and Scene Analysis.\n",
      "     (Q327.D83) John Wiley & Sons.  ISBN 0-471-22361-1.  See page 218.\n",
      "   - Dasarathy, B.V. (1980) \"Nosing Around the Neighborhood: A New System\n",
      "     Structure and Classification Rule for Recognition in Partially Exposed\n",
      "     Environments\".  IEEE Transactions on Pattern Analysis and Machine\n",
      "     Intelligence, Vol. PAMI-2, No. 1, 67-71.\n",
      "   - Gates, G.W. (1972) \"The Reduced Nearest Neighbor Rule\".  IEEE Transactions\n",
      "     on Information Theory, May 1972, 431-433.\n",
      "   - See also: 1988 MLC Proceedings, 54-64.  Cheeseman et al\"s AUTOCLASS II\n",
      "     conceptual clustering system finds 3 classes in the data.\n",
      "   - Many, many more ...\n",
      "\n"
     ]
    }
   ],
   "source": [
    "print(dataset.load_iris()['DESCR'])"
   ]
  },
  {
   "cell_type": "code",
   "execution_count": null,
   "metadata": {
    "collapsed": true
   },
   "outputs": [],
   "source": []
  }
 ],
 "metadata": {
  "kernelspec": {
   "display_name": "Python 3",
   "language": "python",
   "name": "python3"
  },
  "language_info": {
   "codemirror_mode": {
    "name": "ipython",
    "version": 3
   },
   "file_extension": ".py",
   "mimetype": "text/x-python",
   "name": "python",
   "nbconvert_exporter": "python",
   "pygments_lexer": "ipython3",
   "version": "3.6.1"
  }
 },
 "nbformat": 4,
 "nbformat_minor": 2
}
