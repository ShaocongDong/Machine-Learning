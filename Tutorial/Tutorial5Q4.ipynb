{
 "cells": [
  {
   "cell_type": "markdown",
   "metadata": {
    "collapsed": true
   },
   "source": [
    "## Tutorial 5"
   ]
  },
  {
   "cell_type": "markdown",
   "metadata": {},
   "source": [
    "### Question 4"
   ]
  },
  {
   "cell_type": "code",
   "execution_count": 80,
   "metadata": {},
   "outputs": [],
   "source": [
    "# import library\n",
    "import numpy as np\n",
    "import numpy.random as rd\n",
    "import matplotlib.pyplot as plt\n"
   ]
  },
  {
   "cell_type": "code",
   "execution_count": 11,
   "metadata": {},
   "outputs": [],
   "source": [
    "# Set up function\n",
    "y_noiseless = lambda x: np.sin(np.pi*x)"
   ]
  },
  {
   "cell_type": "code",
   "execution_count": 27,
   "metadata": {},
   "outputs": [],
   "source": [
    "def generate_split_data(dataSize, trainingRatio, standardDeviation):\n",
    "    '''\n",
    "    generate data set and split them according to the training ratio\n",
    "    variables are self-explainable\n",
    "    :param dataSize: \n",
    "    :param trainingRatio: \n",
    "    :param standardDeviation: \n",
    "    :return: dataTrain, labelTrain, dataTest, labelTest\n",
    "    '''\n",
    "    data = (rd.rand(dataSize)*2 - 1).reshape(dataSize,)\n",
    "    random_noise = rd.normal(0, standardDeviation, dataSize).reshape(dataSize,)\n",
    "    labelNoise = y_noiseless(data)+random_noise\n",
    "    trainingSize = int(dataSize*trainingRatio)\n",
    "    return data[0:trainingSize], labelNoise[0:trainingSize], data[trainingSize:dataSize], labelNoise[trainingSize:dataSize]\n",
    "    "
   ]
  },
  {
   "cell_type": "code",
   "execution_count": 28,
   "metadata": {},
   "outputs": [],
   "source": [
    "# Get the training and testing data set\n",
    "dataTrain, labelTrain, dataTest, labelTest = generate_split_data(20, 0.5, 0.2)"
   ]
  },
  {
   "cell_type": "code",
   "execution_count": 58,
   "metadata": {},
   "outputs": [],
   "source": [
    "def error_cal(data, label, poly):\n",
    "    N = data.shape[0]\n",
    "    res = 0\n",
    "    for i in range(N):\n",
    "        res += (poly(data[i])-label[i])**2\n",
    "    return res/N"
   ]
  },
  {
   "cell_type": "code",
   "execution_count": 59,
   "metadata": {},
   "outputs": [],
   "source": [
    "def fit_error(dataTrain, labelTrain, dataTest, labelTest, degree):\n",
    "    z = np.polyfit(dataTrain, labelTrain, degree)\n",
    "    p = np.poly1d(z)\n",
    "    return error_cal(dataTrain, labelTrain, poly=p), error_cal(dataTest, labelTest, poly=p)"
   ]
  },
  {
   "cell_type": "code",
   "execution_count": 65,
   "metadata": {},
   "outputs": [],
   "source": [
    "def plot(dataSize, trainingRatio, standardDeviation):\n",
    "    dataTrain, labelTrain, dataTest, labelTest = generate_split_data(dataSize, trainingRatio, standardDeviation)\n",
    "    in_error = []\n",
    "    out_error = []\n",
    "    degree_list = [1,2,3,4,5,6]\n",
    "    for degree in degree_list:\n",
    "        in_err, out_err = fit_error(dataTrain, labelTrain, dataTest, labelTest, degree)\n",
    "        in_error.append(in_err)\n",
    "        out_error.append(out_err)\n",
    "    \n",
    "    plt.plot(degree_list, in_error, \"bo\")\n",
    "    plt.plot(degree_list, out_error, \"ms\")\n",
    "    plt.show()\n"
   ]
  },
  {
   "cell_type": "code",
   "execution_count": 75,
   "metadata": {},
   "outputs": [
    {
     "data": {
      "image/png": "[encoded data removed]",
      "text/plain": [
       "<matplotlib.figure.Figure at 0x10f1240f0>"
      ]
     },
     "metadata": {},
     "output_type": "display_data"
    }
   ],
   "source": [
    "plot(20, 0.5, 0.2)"
   ]
  },
  {
   "cell_type": "code",
   "execution_count": 77,
   "metadata": {},
   "outputs": [
    {
     "data": {
      "image/png": "[encoded data removed]",
      "text/plain": [
       "<matplotlib.figure.Figure at 0x10f124d68>"
      ]
     },
     "metadata": {},
     "output_type": "display_data"
    }
   ],
   "source": [
    "plot(200, 0.5, 0.2)"
   ]
  },
  {
   "cell_type": "code",
   "execution_count": 79,
   "metadata": {},
   "outputs": [
    {
     "data": {
      "image/png": "[encoded data removed]",
      "text/plain": [
       "<matplotlib.figure.Figure at 0x10f19f6a0>"
      ]
     },
     "metadata": {},
     "output_type": "display_data"
    }
   ],
   "source": [
    "plot(20, 0.5, 0.5)"
   ]
  },
  {
   "cell_type": "code",
   "execution_count": null,
   "metadata": {},
   "outputs": [],
   "source": []
  }
 ],
 "metadata": {
  "kernelspec": {
   "display_name": "Python 2",
   "language": "python",
   "name": "python2"
  },
  "language_info": {
   "codemirror_mode": {
    "name": "ipython",
    "version": 2
   },
   "file_extension": ".py",
   "mimetype": "text/x-python",
   "name": "python",
   "nbconvert_exporter": "python",
   "pygments_lexer": "ipython2",
   "version": "2.7.6"
  }
 },
 "nbformat": 4,
 "nbformat_minor": 0
}
